{
 "cells": [
  {
   "cell_type": "markdown",
   "id": "c63b76b8",
   "metadata": {},
   "source": [
    "# Data Science Tools and Ecosystem"
   ]
  },
  {
   "cell_type": "markdown",
   "id": "b5859216",
   "metadata": {},
   "source": [
    "In this notebook, Data Science Tools and Ecosystem are summarized."
   ]
  },
  {
   "cell_type": "markdown",
   "id": "bfbda0d7",
   "metadata": {},
   "source": [
    "Some of the popular languages that Data Scientists use are:\n",
    "Python\n",
    "SQL\n",
    "R\n",
    "Scala\n",
    "Apache"
   ]
  },
  {
   "cell_type": "markdown",
   "id": "4a861024",
   "metadata": {},
   "source": [
    "Some of the commonly used libraries used by Data Scientists include:\n",
    "NumPy\n",
    "Pandas\n",
    "Scikit-Learn\n",
    "Pytorch\n",
    "Tensor Flow"
   ]
  },
  {
   "cell_type": "markdown",
   "id": "f7bba805",
   "metadata": {},
   "source": [
    "|    Data Science Tools    |\n",
    "|--------------------------|\n",
    "|   1. Jupyter Notebook    |\n",
    "|   2. RStudio             |\n",
    "|   3. VS Code |\n"
   ]
  },
  {
   "cell_type": "markdown",
   "id": "6b7f50a8",
   "metadata": {},
   "source": [
    "# Below are a few examples of evaluating arithmetic expressions in Python."
   ]
  },
  {
   "cell_type": "code",
   "execution_count": 2,
   "id": "c717bf5d",
   "metadata": {},
   "outputs": [
    {
     "data": {
      "text/plain": [
       "17"
      ]
     },
     "execution_count": 2,
     "metadata": {},
     "output_type": "execute_result"
    }
   ],
   "source": [
    "# This is a simple arithmetic expression to multiply then add integers.\n",
    "result = (3 * 4) + 5\n",
    "result"
   ]
  },
  {
   "cell_type": "code",
   "execution_count": 4,
   "id": "8df07670",
   "metadata": {},
   "outputs": [
    {
     "name": "stdout",
     "output_type": "stream",
     "text": [
      "Choose an option:\n",
      "1. Convert minutes to hours\n",
      "2. Convert hours to minutes\n",
      "3. Quit\n",
      "Enter your choice (1/2/3): 1\n",
      "Enter the number of minutes: 555\n",
      "555.0 minutes is equal to 9.25 hours.\n",
      "\n",
      "Choose an option:\n",
      "1. Convert minutes to hours\n",
      "2. Convert hours to minutes\n",
      "3. Quit\n",
      "Enter your choice (1/2/3): 3\n",
      "Goodbye!\n"
     ]
    }
   ],
   "source": [
    "# This will convert 200 minutes to hours by dividing by 60.\n",
    "def minutes_to_hours(minutes):\n",
    "    hours = minutes / 60\n",
    "    return hours\n",
    "\n",
    "def hours_to_minutes(hours):\n",
    "    minutes = hours * 60\n",
    "    return minutes\n",
    "\n",
    "while True:\n",
    "    print(\"Choose an option:\")\n",
    "    print(\"1. Convert minutes to hours\")\n",
    "    print(\"2. Convert hours to minutes\")\n",
    "    print(\"3. Quit\")\n",
    "\n",
    "    choice = input(\"Enter your choice (1/2/3): \")\n",
    "\n",
    "    if choice == '1':\n",
    "        minutes = float(input(\"Enter the number of minutes: \"))\n",
    "        hours = minutes_to_hours(minutes)\n",
    "        print(f\"{minutes} minutes is equal to {hours} hours.\\n\")\n",
    "    elif choice == '2':\n",
    "        hours = float(input(\"Enter the number of hours: \"))\n",
    "        minutes = hours_to_minutes(hours)\n",
    "        print(f\"{hours} hours is equal to {minutes} minutes.\\n\")\n",
    "    elif choice == '3':\n",
    "        print(\"Goodbye!\")\n",
    "        break\n",
    "    else:\n",
    "        print(\"Invalid choice. Please enter 1, 2, or 3.\\n\")"
   ]
  },
  {
   "cell_type": "markdown",
   "id": "31de97b9",
   "metadata": {},
   "source": [
    "### Objectives:\n",
    "\n",
    "List popular languages for Data Science.\n",
    "Identify commonly used libraries in data science.\n",
    "Understand how to create Markdown cells in Jupyter Notebook.\n",
    "Perform basic arithmetic operations in Python.\n",
    "Convert units, such as minutes to hours, in Python."
   ]
  },
  {
   "cell_type": "markdown",
   "id": "d6904a73",
   "metadata": {},
   "source": [
    "# Author\n",
    "Kunal"
   ]
  }
 ],
 "metadata": {
  "kernelspec": {
   "display_name": "Python 3 (ipykernel)",
   "language": "python",
   "name": "python3"
  },
  "language_info": {
   "codemirror_mode": {
    "name": "ipython",
    "version": 3
   },
   "file_extension": ".py",
   "mimetype": "text/x-python",
   "name": "python",
   "nbconvert_exporter": "python",
   "pygments_lexer": "ipython3",
   "version": "3.10.9"
  }
 },
 "nbformat": 4,
 "nbformat_minor": 5
}
